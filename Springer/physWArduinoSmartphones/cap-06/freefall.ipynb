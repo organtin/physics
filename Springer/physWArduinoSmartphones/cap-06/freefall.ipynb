{
 "cells": [
  {
   "cell_type": "markdown",
   "metadata": {},
   "source": [
    "# Analysis of free fall data\n",
    "\n",
    "This notebook contains the script to analyse data collected during the freefall experiment. We begin, as usual, importing the needed modules."
   ]
  },
  {
   "cell_type": "code",
   "execution_count": 42,
   "metadata": {},
   "outputs": [],
   "source": [
    "import pandas as pd\n",
    "import numpy as np"
   ]
  },
  {
   "cell_type": "markdown",
   "metadata": {},
   "source": [
    "Then, we read data from a CSV file using pandas' ``read_csv()`` method, to which the filename is passed as an argument. Data are arranged as a matrix: each column is a list of data: the first column contains the height, the second the time. To convert these data into lists we need to transpose the matrix (``.T``), access its values ignoring the headers (``.values``) and transform them into a list (``.tolist()``)."
   ]
  },
  {
   "cell_type": "code",
   "execution_count": 38,
   "metadata": {},
   "outputs": [],
   "source": [
    "f = pd.read_csv('../phyphox/freefall.csv')\n",
    "data = f.T.values.tolist()\n",
    "x = data[0]\n",
    "y = data[1]"
   ]
  },
  {
   "cell_type": "markdown",
   "metadata": {},
   "source": [
    "At this point we want to make a plot of y vs x. This is done using the ``matplotlib.pyplot`` package."
   ]
  },
  {
   "cell_type": "code",
   "execution_count": 39,
   "metadata": {},
   "outputs": [
    {
     "name": "stdout",
     "output_type": "stream",
     "text": [
      "========== simple linear model\n"
     ]
    },
    {
     "data": {
      "image/png": "[encoded data removed]",
      "text/plain": [
       "<Figure size 612x288 with 1 Axes>"
      ]
     },
     "metadata": {
      "needs_background": "light"
     },
     "output_type": "display_data"
    }
   ],
   "source": [
    "import matplotlib.pyplot as plt\n",
    "\n",
    "print('========== simple linear model')\n",
    "fig = plt.figure(figsize=(8.5,4))\n",
    "plt.plot(x, y, 'o')\n",
    "plt.xlabel('h [m]')\n",
    "plt.ylabel('t [s]')\n",
    "plt.show()"
   ]
  },
  {
   "cell_type": "markdown",
   "metadata": {},
   "source": [
    "## A simple, linear model\n",
    "\n",
    "Data seem to distribute along a straight line. The slope of the line can be obtained computing the average of the ratios $\\frac{\\Delta y_{i,j}}{\\Delta x_{i,j}}$, where $\\Delta x_{i,j} = x_j-x_i$ and similarly for $\\Delta y_{i,j}$. We find all the possible pairs $i,\\,j$, then we find their average.\n",
    "\n",
    "The list of all the possible $i,\\,j$ pairs can be found all the combinations of two elements out of $N$ with no repetitions. This is done using the ``combinations`` subpackage from ``itertools``: its ``comb`` method returns a tuple containing all the possible combinations. The first argument of the method is a list of elements (in our case the list is composed by integers from 0 to $N$, where $N$ is the number of elements. Since $N$ is equal to the size (``len()``) of x, we can build the list as numpy's ``np.arange(len(y))``.\n",
    "\n",
    "Looping on all the possible combinations we compute the ratio above and their average. The uncertainty on the average is computed as $\\sigma^2 = \\langle x^2\\rangle - \\langle x\\rangle^2$."
   ]
  },
  {
   "cell_type": "code",
   "execution_count": 40,
   "metadata": {},
   "outputs": [],
   "source": [
    "from itertools import combinations as comb\n",
    "\n",
    "def averageSlope(x, y):\n",
    "    ijpairs = list(comb(np.arange(len(y)), 2))\n",
    "    m = 0\n",
    "    m2 = 0\n",
    "    for ij in ijpairs:\n",
    "        i = ij[0]\n",
    "        j = ij[1]\n",
    "        s = (y[i]-y[j])/(x[i]-x[j])\n",
    "        m += s\n",
    "        m2 += s*s\n",
    "    N = len(ijpairs)\n",
    "    m /= N    \n",
    "    sigma = np.sqrt(m2/N-m*m)\n",
    "    return m, sigma\n",
    "\n",
    "m, sigma = averageSlope(x, y)"
   ]
  },
  {
   "cell_type": "markdown",
   "metadata": {},
   "source": [
    "To write it properly we define a dedicated function that evaluate the number of significant figures in the unceratinty and returns both the uncertainty and the average using the appropriate number of digits. To show how this is accomplished, we print the values as they are compute and, in parenthesis, the rounded one."
   ]
  },
  {
   "cell_type": "code",
   "execution_count": 41,
   "metadata": {},
   "outputs": [
    {
     "name": "stdout",
     "output_type": "stream",
     "text": [
      "Slope = 0.23823701298701305 +- 0.03293846902060876 (0.24)\n"
     ]
    }
   ],
   "source": [
    "def truncatedMeasurement(m, sigma):\n",
    "    e = np.floor(np.log(np.abs(sigma))/np.log(10))\n",
    "    mprime = np.round(m/10**e,0)*10**e\n",
    "    return mprime\n",
    "\n",
    "alpha = truncatedMeasurement(m, sigma)\n",
    "print('Slope = {} +- {} ({})'.format(m, sigma, alpha))"
   ]
  },
  {
   "cell_type": "markdown",
   "metadata": {},
   "source": [
    "We do the same to compute the intercept of the line interpolating data. The intercept is found computing the average intercept as\n",
    "\n",
    "$\\beta=\\frac{1}{N}\\sum_{i=1}^N{y_i - \\alpha x_i}$"
   ]
  },
  {
   "cell_type": "code",
   "execution_count": 35,
   "metadata": {},
   "outputs": [
    {
     "name": "stdout",
     "output_type": "stream",
     "text": [
      "Beta = 0.21176000000000003 +- 0.0035674080226405294 (0.212)\n"
     ]
    }
   ],
   "source": [
    "def averageIntercept(x, y, slope):\n",
    "    vbeta = []\n",
    "    for i in range(len(x)):\n",
    "        vbeta.append(y[i]-slope*x[i])\n",
    "    beta = np.mean(vbeta)\n",
    "    dbeta = np.std(vbeta)\n",
    "    return beta, dbeta\n",
    "\n",
    "beta, dbeta = averageIntercept(x, y, alpha)\n",
    "betat = truncatedMeasurement(beta, dbeta)\n",
    "print('Beta = {} +- {} ({})'.format(beta, dbeta, betat))"
   ]
  },
  {
   "cell_type": "markdown",
   "metadata": {},
   "source": [
    "Now we redo the plot superimposing the line $y=\\alpha x + \\beta$ and we decorate it with some information to the reader. Moreover, we impose the limits for both $x$ and $y$ axis, such that the origin is visible.\n",
    "\n",
    "Together with the linear model, we show an alternative model such that $t\\propto \\sqrt{h}$, as predicted for an object falling with constant acceleration. While for the linear model $t(0) \\ne 0$, for the alternative one, $t(0)=0$. It then appears to be more reasonable."
   ]
  },
  {
   "cell_type": "code",
   "execution_count": 36,
   "metadata": {},
   "outputs": [
    {
     "data": {
      "image/png": "[encoded data removed]",
      "text/plain": [
       "<Figure size 612x288 with 1 Axes>"
      ]
     },
     "metadata": {
      "needs_background": "light"
     },
     "output_type": "display_data"
    }
   ],
   "source": [
    "    fig = plt.figure(figsize=(8.5,4))\n",
    "    xrange = np.arange(0., 1.1, .001)\n",
    "    plt.plot(x, y, 'o')\n",
    "    model = alpha*xrange + beta\n",
    "    plt.plot(xrange, model, '-r')\n",
    "    plt.xlabel('h [m]')\n",
    "    plt.ylabel('t [s]')\n",
    "    plt.xlim(0., 1.1)\n",
    "    plt.ylim(0., 0.5)\n",
    "    plt.plot(xrange, np.sqrt(2*xrange/9.8), '-g')\n",
    "    plt.show()"
   ]
  },
  {
   "cell_type": "markdown",
   "metadata": {},
   "source": [
    "## A better model\n",
    "\n",
    "To find the parameters of the constant acceleration model, it is a good idea to *linearise* the model, i.e. to plot a function of the data such that it appears as a straight line: in this case it is enough to plot $t^2$ as a function of $h$ instead of $t$:"
   ]
  },
  {
   "cell_type": "code",
   "execution_count": 14,
   "metadata": {},
   "outputs": [
    {
     "name": "stdout",
     "output_type": "stream",
     "text": [
      "========== linearised model\n"
     ]
    },
    {
     "data": {
      "image/png": "[encoded data removed]",
      "text/plain": [
       "<Figure size 612x288 with 1 Axes>"
      ]
     },
     "metadata": {
      "needs_background": "light"
     },
     "output_type": "display_data"
    },
    {
     "name": "stdout",
     "output_type": "stream",
     "text": [
      "Slope = 0.1927297272727273 +- 0.01709738848406902 (0.19)\n",
      "Beta = 0.01270040000000001 +- 0.0019465144849191295 (0.013000000000000001)\n"
     ]
    }
   ],
   "source": [
    "print('========== linearised model')\n",
    "fig = plt.figure(figsize=(8.5,4))\n",
    "t2 = [t*t for t in y]\n",
    "plt.plot(x, t2, 'o')\n",
    "plt.xlabel('h [m]')\n",
    "plt.ylabel('t$^2$ [s$^2$]')\n",
    "plt.show()\n",
    "m, sigma = averageSlope(x, t2)\n",
    "alpha = truncatedMeasurement(m, sigma)\n",
    "print('Slope = {} +- {} ({})'.format(m, sigma, alpha))\n",
    "beta, dbeta = averageIntercept(x, t2, alpha)\n",
    "betat = truncatedMeasurement(beta, dbeta)\n",
    "print('Beta = {} +- {} ({})'.format(beta, dbeta, betat))"
   ]
  },
  {
   "cell_type": "markdown",
   "metadata": {},
   "source": [
    "We found the slope and the intercept of $t^2$ vs $h$ as above. Now we plot the model, too."
   ]
  },
  {
   "cell_type": "code",
   "execution_count": 15,
   "metadata": {},
   "outputs": [
    {
     "data": {
      "image/png": "[encoded data removed]",
      "text/plain": [
       "<Figure size 432x288 with 1 Axes>"
      ]
     },
     "metadata": {
      "needs_background": "light"
     },
     "output_type": "display_data"
    }
   ],
   "source": [
    "    model = alpha * xrange + beta\n",
    "    plt.plot(x, t2, 'o')\n",
    "    plt.xlim(0., 1.1)\n",
    "    plt.ylim(0., 0.5)\n",
    "    plt.plot(xrange, model, '-r')\n",
    "    plt.xlabel('h [m]')\n",
    "    plt.ylabel('t$^2$ [s$^2$]')\n",
    "    plt.show()"
   ]
  },
  {
   "cell_type": "markdown",
   "metadata": {},
   "source": [
    "## Taking into account the finite speed of the sound\n",
    "\n",
    "Indeed, the model seems not to be correct yet. In fact, even in this case, the intercept is not compatible with zero. The reason being that we must correct for the time needed to the sound to reach the phone to trigger its stop.\n",
    "\n",
    "In addition to a correction due to the sound travel time, we also add a constant offset that takes into account the fact that the phone takes some time to perform the operations leading to start and stop the time. That time is reasonably constant."
   ]
  },
  {
   "cell_type": "code",
   "execution_count": 26,
   "metadata": {},
   "outputs": [
    {
     "name": "stdout",
     "output_type": "stream",
     "text": [
      "========== corrected model\n"
     ]
    },
    {
     "data": {
      "image/png": "[encoded data removed]",
      "text/plain": [
       "<Figure size 612x288 with 1 Axes>"
      ]
     },
     "metadata": {
      "needs_background": "light"
     },
     "output_type": "display_data"
    },
    {
     "name": "stdout",
     "output_type": "stream",
     "text": [
      "Slope = 0.18662021657754013 +- 0.015789870789510684 (0.19)\n",
      "Beta = -0.0012993093425605674 +- 0.0015011638302182668 (-0.001)\n"
     ]
    },
    {
     "data": {
      "image/png": "[encoded data removed]",
      "text/plain": [
       "<Figure size 612x288 with 1 Axes>"
      ]
     },
     "metadata": {
      "needs_background": "light"
     },
     "output_type": "display_data"
    }
   ],
   "source": [
    "print('========== corrected model')\n",
    "fig = plt.figure(figsize=(8.5,4))\n",
    "t2c = []\n",
    "for i in range(len(x)):\n",
    "    tc = y[i]+x[i]/340-0.02\n",
    "    t2c.append(tc*tc)\n",
    "plt.plot(x, t2c, 'o')\n",
    "plt.xlabel('h [m]')\n",
    "plt.ylabel('t$^2_{corr}$ [s$^2$]')\n",
    "plt.show()\n",
    "m, sigma = averageSlope(x, t2c)\n",
    "alpha = truncatedMeasurement(m, sigma)\n",
    "print('Slope = {} +- {} ({})'.format(m, sigma, alpha))\n",
    "beta, dbeta = averageIntercept(x, t2c, alpha)\n",
    "betat = truncatedMeasurement(beta, dbeta)\n",
    "print('Beta = {} +- {} ({})'.format(beta, dbeta, betat))\n",
    "\n",
    "fig = plt.figure(figsize=(8.5,4))\n",
    "model = alpha * xrange + beta\n",
    "plt.plot(x, t2c, 'o')\n",
    "plt.xlim(0., 1.1)\n",
    "plt.ylim(0., 0.5)\n",
    "plt.plot(xrange, model, '-r')\n",
    "plt.xlabel('h [m]')\n",
    "plt.ylabel('t$^2_{corr}$ [s$^2$]')\n",
    "plt.show()"
   ]
  },
  {
   "cell_type": "code",
   "execution_count": null,
   "metadata": {},
   "outputs": [],
   "source": []
  }
 ],
 "metadata": {
  "kernelspec": {
   "display_name": "Python 3",
   "language": "python",
   "name": "python3"
  },
  "language_info": {
   "codemirror_mode": {
    "name": "ipython",
    "version": 3
   },
   "file_extension": ".py",
   "mimetype": "text/x-python",
   "name": "python",
   "nbconvert_exporter": "python",
   "pygments_lexer": "ipython3",
   "version": "3.8.0"
  }
 },
 "nbformat": 4,
 "nbformat_minor": 2
}
